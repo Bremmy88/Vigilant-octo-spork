{
 "cells": [
  {
   "cell_type": "markdown",
   "id": "28826d05-83f8-42cf-b815-0fbb59d9f4d9",
   "metadata": {},
   "source": [
    "# Data Science Tools and Ecosystem"
   ]
  },
  {
   "cell_type": "markdown",
   "id": "91ec9d4d-fdb9-438e-ab38-9b71b5036162",
   "metadata": {},
   "source": [
    "## Objectives ##\n",
    "- List popular languages used by data scientists\n",
    "- List some commonly used libraries used by data scientists\n",
    "- List data science tools\n",
    "- Illustrate some arithmetic expressions as used in Python"
   ]
  },
  {
   "cell_type": "markdown",
   "id": "21a59b32-845d-4da8-a7ff-3ef778dcc4ad",
   "metadata": {},
   "source": [
    "In this Notebook Data science tools and Ecosystem are summerised"
   ]
  },
  {
   "cell_type": "markdown",
   "id": "8e2aa210-8cd3-4a3c-8356-d6d6ac34af28",
   "metadata": {},
   "source": [
    "some ofthe popular languages that data scientists use are:\n",
    "1. R\n",
    "2. Python\n",
    "3. SQL\n",
    "4. Julia"
   ]
  },
  {
   "cell_type": "markdown",
   "id": "83603a8c-fbfc-42fb-901f-1da79e6dc754",
   "metadata": {},
   "source": [
    "Some of the commonly used Libraries used by data scientists include:\n",
    "1. Pandas\n",
    "2. Matplotlib\n",
    "3. Tensorflow\n",
    "4. Scikit-learn\n"
   ]
  },
  {
   "cell_type": "markdown",
   "id": "2f7d673b-8e3e-4ec2-85c1-e621bfeb15df",
   "metadata": {},
   "source": [
    "|Data Science Tools|\n",
    "|------------------|\n",
    "|RStudo            |\n",
    "|Aache Spark       |\n",
    "|Apache Hadoop     |"
   ]
  },
  {
   "cell_type": "markdown",
   "id": "b61ed1b9-4271-42d2-9aee-7397ceea7138",
   "metadata": {},
   "source": [
    "Below are a few examples of evaluating arithmetic expressions in python:"
   ]
  },
  {
   "cell_type": "code",
   "execution_count": 1,
   "id": "50d43704-6a4a-4a7e-8e45-bcbfa4bf89ca",
   "metadata": {},
   "outputs": [
    {
     "data": {
      "text/plain": [
       "17"
      ]
     },
     "execution_count": 1,
     "metadata": {},
     "output_type": "execute_result"
    }
   ],
   "source": [
    "(3*4)+5"
   ]
  },
  {
   "cell_type": "code",
   "execution_count": 5,
   "id": "973ecab3-31dc-47c6-a4b3-51d59f88b304",
   "metadata": {},
   "outputs": [
    {
     "data": {
      "text/plain": [
       "3"
      ]
     },
     "execution_count": 5,
     "metadata": {},
     "output_type": "execute_result"
    }
   ],
   "source": [
    "#This will convert 200 minutes to hours by deviding by 60\n",
    "200//60"
   ]
  },
  {
   "cell_type": "markdown",
   "id": "b65329d6-bb8b-479d-b99a-3c08c09f15dd",
   "metadata": {},
   "source": [
    "## Author\n",
    "Brenda Mwanzari"
   ]
  },
  {
   "cell_type": "code",
   "execution_count": null,
   "id": "66f0b75d-238a-481b-87c6-b8a2988e0467",
   "metadata": {},
   "outputs": [],
   "source": []
  }
 ],
 "metadata": {
  "kernelspec": {
   "display_name": "Python 3 (ipykernel)",
   "language": "python",
   "name": "python3"
  },
  "language_info": {
   "codemirror_mode": {
    "name": "ipython",
    "version": 3
   },
   "file_extension": ".py",
   "mimetype": "text/x-python",
   "name": "python",
   "nbconvert_exporter": "python",
   "pygments_lexer": "ipython3",
   "version": "3.11.7"
  }
 },
 "nbformat": 4,
 "nbformat_minor": 5
}
